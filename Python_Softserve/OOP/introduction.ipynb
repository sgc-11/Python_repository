{
 "cells": [
  {
   "cell_type": "markdown",
   "id": "d90a9dd1",
   "metadata": {},
   "source": [
    "# Introduction"
   ]
  },
  {
   "cell_type": "code",
   "execution_count": 1,
   "id": "301bad80",
   "metadata": {},
   "outputs": [],
   "source": [
    "# class keyword\n",
    "\n",
    "class Triangle():\n",
    "    '''This is a triangle'''\n",
    "    pass"
   ]
  },
  {
   "cell_type": "markdown",
   "id": "f3925c29",
   "metadata": {},
   "source": [
    "* It is widely agreed that all class methods (including the constructor) set `self` as their first parameter.\n",
    "    * It indicates explicitly the current object, although we don't need to pass it as an argument when using class's objects."
   ]
  },
  {
   "cell_type": "code",
   "execution_count": null,
   "id": "088563a0",
   "metadata": {},
   "outputs": [],
   "source": [
    "class Triangle: # # Si uno no tiene super clases o clases padre, el paréntesis es opcional\n",
    "    '''This is a triangle'''\n",
    "\n",
    "    def area(self):\n",
    "        return (self.base * self.height) / 2"
   ]
  },
  {
   "cell_type": "markdown",
   "id": "45789eb8",
   "metadata": {},
   "source": [
    "* Create data fields defining variables in the proper scope, assigning them some value"
   ]
  },
  {
   "cell_type": "code",
   "execution_count": null,
   "id": "574c0fc3",
   "metadata": {},
   "outputs": [],
   "source": [
    "class Triangle: # # Si uno no tiene super clases o clases padre, el paréntesis es opcional\n",
    "    '''This is a triangle'''\n",
    "\n",
    "    figure_name = 'triangle'\n",
    "\n",
    "    def area(self):\n",
    "        return (self.base * self.height) / 2"
   ]
  },
  {
   "cell_type": "markdown",
   "id": "532fea3c",
   "metadata": {},
   "source": [
    "* Complete class"
   ]
  },
  {
   "cell_type": "code",
   "execution_count": 20,
   "id": "e757e4b1",
   "metadata": {},
   "outputs": [],
   "source": [
    "class Triangle:\n",
    "    '''\n",
    "    This is a triangle\n",
    "    '''\n",
    "    figure_name = 'triangle'\n",
    "\n",
    "    def __init__(self, base=0, height=0, color='white'): ## init indica que se instancia al iniciar el codigo\n",
    "        self.base = base\n",
    "        self.height = height\n",
    "        self.color = color\n",
    "    \n",
    "    def area(self):\n",
    "        return (self.base * self.height) / 2\n",
    "    \n",
    "    def paint(self, color):\n",
    "        self.color = color\n",
    "        print(f\"My color is {self.color}\")\n",
    "\n",
    "## La muerte puede ser automatica con el garbage collector o con el del, pero la funcion siempre se ejecuta.\n",
    "    def __del__(self): # Destructor. Evento 'del'. Este se ejecuta cuando muere un objeto de la clase. La funcion del, que es otra, elimina el objeto de la memoria.\n",
    "        print('Disposing a triangle')"
   ]
  },
  {
   "cell_type": "markdown",
   "id": "6a0cb495",
   "metadata": {},
   "source": [
    "* Creating an object"
   ]
  },
  {
   "cell_type": "code",
   "execution_count": 21,
   "id": "e4186905",
   "metadata": {},
   "outputs": [
    {
     "name": "stdout",
     "output_type": "stream",
     "text": [
      "Disposing a triangle\n"
     ]
    }
   ],
   "source": [
    "my_triangle = Triangle()"
   ]
  },
  {
   "cell_type": "markdown",
   "id": "a3cd3a93",
   "metadata": {},
   "source": [
    "* Access to the attributes"
   ]
  },
  {
   "cell_type": "code",
   "execution_count": 22,
   "id": "f452fd50",
   "metadata": {},
   "outputs": [],
   "source": [
    "my_triangle.base = 2"
   ]
  },
  {
   "cell_type": "code",
   "execution_count": 24,
   "id": "911dffd4",
   "metadata": {},
   "outputs": [],
   "source": [
    "my_triangle.height = 3"
   ]
  },
  {
   "cell_type": "code",
   "execution_count": 25,
   "id": "2e787be2",
   "metadata": {},
   "outputs": [
    {
     "data": {
      "text/plain": [
       "'white'"
      ]
     },
     "execution_count": 25,
     "metadata": {},
     "output_type": "execute_result"
    }
   ],
   "source": [
    "my_triangle.color"
   ]
  },
  {
   "cell_type": "markdown",
   "id": "6e487ee6",
   "metadata": {},
   "source": [
    "* Access to a method or function from the object"
   ]
  },
  {
   "cell_type": "code",
   "execution_count": 27,
   "id": "6af68856",
   "metadata": {},
   "outputs": [
    {
     "data": {
      "text/plain": [
       "3.0"
      ]
     },
     "execution_count": 27,
     "metadata": {},
     "output_type": "execute_result"
    }
   ],
   "source": [
    "my_triangle.area()"
   ]
  },
  {
   "cell_type": "code",
   "execution_count": 28,
   "id": "a31ca2fa",
   "metadata": {},
   "outputs": [
    {
     "name": "stdout",
     "output_type": "stream",
     "text": [
      "My color is Blue\n"
     ]
    }
   ],
   "source": [
    "my_triangle.paint('Blue')"
   ]
  },
  {
   "cell_type": "code",
   "execution_count": 29,
   "id": "80c966ed",
   "metadata": {},
   "outputs": [
    {
     "data": {
      "text/plain": [
       "'\\n    This is a triangle\\n    '"
      ]
     },
     "execution_count": 29,
     "metadata": {},
     "output_type": "execute_result"
    }
   ],
   "source": [
    "Triangle.__doc__"
   ]
  },
  {
   "cell_type": "markdown",
   "id": "612bc6c1",
   "metadata": {},
   "source": [
    "La sobrecarga de métodos y por lo tanto de constructores no se aplica en python. Esto es de lenguajes tipados que hace que cambie el comportamiento. Esto es teniendo varios métodos con el mismo nombre, pero con otros argumentos. \n",
    "\n",
    "En python, las funciones que son con las que se crean los métodos, puede tener diferentes tipos de argumentos, por ejemplo los `posicionales`, o default parameters donde se indica el valor por defecto.\n",
    "\n",
    "En lugar de usar sobrecarga de métodos, lo que se usa son diferentes tipos de parámetros. Se define un método que puede lidiar con `n argumentos` que se le pasen."
   ]
  },
  {
   "cell_type": "markdown",
   "id": "7959a515",
   "metadata": {},
   "source": [
    "* Agregamos método sobre la marcha de un objeto ya existente"
   ]
  },
  {
   "cell_type": "code",
   "execution_count": 30,
   "id": "d6440c85",
   "metadata": {},
   "outputs": [
    {
     "name": "stdout",
     "output_type": "stream",
     "text": [
      "True\n"
     ]
    }
   ],
   "source": [
    "def check_white (self):\n",
    "    return self.color == 'white'\n",
    "\n",
    "Triangle.is_white = check_white\n",
    "\n",
    "first_triangle = Triangle()\n",
    "print(first_triangle.is_white())"
   ]
  },
  {
   "cell_type": "markdown",
   "id": "888acb97",
   "metadata": {},
   "source": [
    "* Magic Methods\n",
    "    * __init__\n",
    "    * __del__\n",
    "    * __str__ : ver representación de caracteres del objeto\n",
    "    * __doc__"
   ]
  },
  {
   "cell_type": "code",
   "execution_count": 31,
   "id": "7ba64baa",
   "metadata": {},
   "outputs": [],
   "source": [
    "class Point():\n",
    "    def __init__(self, x, y):\n",
    "        self.x = x\n",
    "        self.y = y\n",
    "\n",
    "    def __add__(self, another_point):\n",
    "        return Point(self.x + another_point.x, self.y + another_point.y)\n",
    "    \n",
    "    def __sub__(self, another_point):\n",
    "        return Point(self.x - another_point.x, self.y - another_point.y)\n",
    "    \n",
    "    def __str__(self):\n",
    "        return f'X = {self.x} , Y = {self.y}'"
   ]
  },
  {
   "cell_type": "code",
   "execution_count": 34,
   "id": "38df6a8b",
   "metadata": {},
   "outputs": [
    {
     "data": {
      "text/plain": [
       "'X = -3 , Y = 0'"
      ]
     },
     "execution_count": 34,
     "metadata": {},
     "output_type": "execute_result"
    }
   ],
   "source": [
    "first_point = Point(-2, 7)\n",
    "second_point = Point(-1, -7)\n",
    "\n",
    "new_point = first_point + second_point\n",
    "\n",
    "new_point.__str__()\n",
    "\n"
   ]
  },
  {
   "cell_type": "markdown",
   "id": "26bf599e",
   "metadata": {},
   "source": [
    "# Inheritance "
   ]
  },
  {
   "cell_type": "code",
   "execution_count": null,
   "id": "32afca91",
   "metadata": {},
   "outputs": [],
   "source": []
  }
 ],
 "metadata": {
  "kernelspec": {
   "display_name": "base",
   "language": "python",
   "name": "python3"
  },
  "language_info": {
   "codemirror_mode": {
    "name": "ipython",
    "version": 3
   },
   "file_extension": ".py",
   "mimetype": "text/x-python",
   "name": "python",
   "nbconvert_exporter": "python",
   "pygments_lexer": "ipython3",
   "version": "3.12.7"
  }
 },
 "nbformat": 4,
 "nbformat_minor": 5
}

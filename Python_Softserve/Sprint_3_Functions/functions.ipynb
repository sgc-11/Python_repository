{
 "cells": [
  {
   "cell_type": "markdown",
   "id": "cf92133d",
   "metadata": {},
   "source": [
    "# **Solución al sprint 3**\n",
    "\n",
    "Simón Gómez Castro\n",
    "Universidad EIA"
   ]
  },
  {
   "cell_type": "markdown",
   "id": "c7cea96d",
   "metadata": {},
   "source": [
    "## **Practice previous to the exercise**"
   ]
  },
  {
   "cell_type": "code",
   "execution_count": null,
   "id": "2d022947",
   "metadata": {},
   "outputs": [
    {
     "name": "stdout",
     "output_type": "stream",
     "text": [
      "Name: Leon, Lastname: Jaramillo, how are you?\n"
     ]
    }
   ],
   "source": [
    "def greeting (name, lastname):\n",
    "    \"\"\"\n",
    "    Documentation of the function\n",
    "    \"\"\"\n",
    "    print(f'Name: {name}, Lastname: {lastname}, how are you?')\n",
    "\n",
    "greeting('Leon', 'Jaramillo')"
   ]
  },
  {
   "cell_type": "code",
   "execution_count": 6,
   "id": "d5311442",
   "metadata": {},
   "outputs": [
    {
     "data": {
      "text/plain": [
       "'\\n    Documentation of the function\\n    '"
      ]
     },
     "execution_count": 6,
     "metadata": {},
     "output_type": "execute_result"
    }
   ],
   "source": [
    "greeting.__doc__"
   ]
  },
  {
   "cell_type": "markdown",
   "id": "edfb9b7e",
   "metadata": {},
   "source": [
    "- If a function does not has return statement, returns a None object"
   ]
  },
  {
   "cell_type": "code",
   "execution_count": 9,
   "id": "a68c9016",
   "metadata": {},
   "outputs": [
    {
     "data": {
      "text/plain": [
       "'Name: Leon, Lastname: Jaramillo, Height: 1.8'"
      ]
     },
     "execution_count": 9,
     "metadata": {},
     "output_type": "execute_result"
    }
   ],
   "source": [
    "# Default value\n",
    "def greeting (name, lastname, height=1.80):\n",
    "    return f'Name: {name}, Lastname: {lastname}, Height: {height}'\n",
    "\n",
    "greeting('Leon', 'Jaramillo')"
   ]
  },
  {
   "cell_type": "markdown",
   "id": "e5a07f34",
   "metadata": {},
   "source": [
    "- Arbitrary number of arguments"
   ]
  },
  {
   "cell_type": "code",
   "execution_count": 12,
   "id": "d9d96550",
   "metadata": {},
   "outputs": [
    {
     "name": "stdout",
     "output_type": "stream",
     "text": [
      "Good Afternoon, simon\n",
      "Good Afternoon, leon\n",
      "Good Afternoon, santiago\n",
      "Good Afternoon, sofia\n"
     ]
    }
   ],
   "source": [
    "def greet_everyone(*names):\n",
    "    for n in names:\n",
    "        print(f'Good Afternoon, {n}')\n",
    "        \n",
    "greet_everyone('simon', 'leon', 'santiago', 'sofia')"
   ]
  },
  {
   "cell_type": "markdown",
   "id": "2d7f97de",
   "metadata": {},
   "source": [
    "- Global keyword to modify a global variable from a local scope"
   ]
  },
  {
   "cell_type": "code",
   "execution_count": 17,
   "id": "d1a14826",
   "metadata": {},
   "outputs": [
    {
     "data": {
      "text/plain": [
       "7"
      ]
     },
     "execution_count": 17,
     "metadata": {},
     "output_type": "execute_result"
    }
   ],
   "source": [
    "n = 5\n",
    "\n",
    "def prueba():\n",
    "    global n # If we comment this line, the function can not access n value\n",
    "    n += 2\n",
    "    return n\n",
    "\n",
    "prueba()"
   ]
  },
  {
   "cell_type": "markdown",
   "id": "8d19ca10",
   "metadata": {},
   "source": [
    "- lambda \n",
    "    - Used with map, filter, reduce, etc"
   ]
  },
  {
   "cell_type": "code",
   "execution_count": 19,
   "id": "c88ea1dc",
   "metadata": {},
   "outputs": [
    {
     "data": {
      "text/plain": [
       "[49, 9, 25, 100]"
      ]
     },
     "execution_count": 19,
     "metadata": {},
     "output_type": "execute_result"
    }
   ],
   "source": [
    "sides = [7, 3, 5, 10]\n",
    "areas = list(map(lambda side : side**2, sides))\n",
    "areas"
   ]
  },
  {
   "cell_type": "code",
   "execution_count": 21,
   "id": "d253cb08",
   "metadata": {},
   "outputs": [
    {
     "data": {
      "text/plain": [
       "[7, 3, 5]"
      ]
     },
     "execution_count": 21,
     "metadata": {},
     "output_type": "execute_result"
    }
   ],
   "source": [
    "odd_sides = list(filter(lambda i : i % 2 != 0, sides))\n",
    "odd_sides"
   ]
  },
  {
   "cell_type": "markdown",
   "id": "7401449d",
   "metadata": {},
   "source": [
    "## Little Exercise\n",
    "\n",
    "Write a function called greet_multiple that takes a list of names and prints a greeting for each name in the list (e.g., ['Alice', 'Bob', 'Charlie']).\n",
    "\n"
   ]
  },
  {
   "cell_type": "code",
   "execution_count": 4,
   "id": "6e3bd14d",
   "metadata": {},
   "outputs": [
    {
     "name": "stdout",
     "output_type": "stream",
     "text": [
      "Good Morning Mario, have a great day\n",
      "Good Morning Valentina, have a great day\n",
      "Good Morning Isabella, have a great day\n"
     ]
    }
   ],
   "source": [
    "def greet_multiple (names):\n",
    "    for n in names:\n",
    "        print(f'Good Morning {n}, have a great day')\n",
    "\n",
    "g_names = ['Mario', 'Valentina', 'Isabella']\n",
    "\n",
    "greet_multiple(g_names)"
   ]
  },
  {
   "cell_type": "markdown",
   "id": "23915a91",
   "metadata": {},
   "source": [
    "# Reflection Questions\n",
    "\n",
    "1. How do you decide when to create a new function in your code? What factors influence your decision to break a problem into smaller, reusable functions?\n",
    "    * I decide to create a function in my code when i need a method or functionality that involves the use of some variables to return something that need to be \"manufactured\". The factors that influence my decision to break a problem into smaller, reusable functions are:\n",
    "        1. When code is extensive and not very legible\n",
    "        2. When the code passes through different processes\n",
    "        3. When i have reusable methods i could use on different scenarios.\n",
    "        4. To leave a great legible code for the programmer that sees my code later.\n",
    "\n",
    "2. How does variable scope (local, global, and nonlocal) affect the behavior of your functions? What steps can you take to minimize unintended side effects in your code?\n",
    "    * The scopes need to be taken seriously. The functions we create should be general in a way we could implement them with any kind of data we could need to transform, this way we don't need to be worried about the global scope variables.\n",
    "\n",
    "3. What is the difference between positional, keyword, and default arguments in Python functions? How can you use these effectively to make your functions more flexible and user-friendly?\n",
    "    * positional arguments: Required argumentes for the function, they may come with a wildcard as `*args`, that may indicate the position of the argument given.\n",
    "    * keyword arguments: Allos us to call functions altering the argument's order.\n",
    "    * default arguments: We define a default value for the argument that will operate unless we change it.\n",
    "    * We may use this to make functions more flexible and user-friendly in a way we could reduce the user interactions that are unnecessary, unless the user has the hability and necessity to change any kind of information."
   ]
  }
 ],
 "metadata": {
  "kernelspec": {
   "display_name": "base",
   "language": "python",
   "name": "python3"
  },
  "language_info": {
   "codemirror_mode": {
    "name": "ipython",
    "version": 3
   },
   "file_extension": ".py",
   "mimetype": "text/x-python",
   "name": "python",
   "nbconvert_exporter": "python",
   "pygments_lexer": "ipython3",
   "version": "3.12.7"
  }
 },
 "nbformat": 4,
 "nbformat_minor": 5
}
